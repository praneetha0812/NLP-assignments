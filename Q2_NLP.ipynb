{
  "nbformat": 4,
  "nbformat_minor": 0,
  "metadata": {
    "colab": {
      "provenance": []
    },
    "kernelspec": {
      "name": "python3",
      "display_name": "Python 3"
    },
    "language_info": {
      "name": "python"
    }
  },
  "cells": [
    {
      "cell_type": "code",
      "source": [
        "import regex as re"
      ],
      "metadata": {
        "id": "tTrRgIR_-B2l"
      },
      "execution_count": null,
      "outputs": []
    },
    {
      "cell_type": "code",
      "execution_count": null,
      "metadata": {
        "id": "vpgOcAi090Bf"
      },
      "outputs": [],
      "source": [
        "s2 = \"The 2019 Supreme Court!!!! verdict paved the b way for the construction of the temple on the site of the demolished Babri Masjid, but the court also directed that a climb “suitable” five acres in a “prominent place” be distributed and not pertub to the Sunni Waqf Board of Uttar Pradesh for the construction of a mosque.\""
      ]
    },
    {
      "cell_type": "code",
      "source": [
        "# One or more words (only with lowercase alphabets) separated by spaces\n",
        "#e.g., “red blue green white”\n",
        "\n",
        "q1 = re.findall(r'\\b[a-z]\\w+[a-z]\\b', s2)\n",
        "q1\n"
      ],
      "metadata": {
        "colab": {
          "base_uri": "https://localhost:8080/"
        },
        "id": "g1GN40pv99oh",
        "outputId": "4f095a16-dc87-415f-c4da-5f2b702593a0"
      },
      "execution_count": null,
      "outputs": [
        {
          "output_type": "execute_result",
          "data": {
            "text/plain": [
              "['verdict',\n",
              " 'paved',\n",
              " 'the',\n",
              " 'way',\n",
              " 'for',\n",
              " 'the',\n",
              " 'construction',\n",
              " 'the',\n",
              " 'temple',\n",
              " 'the',\n",
              " 'site',\n",
              " 'the',\n",
              " 'demolished',\n",
              " 'but',\n",
              " 'the',\n",
              " 'court',\n",
              " 'also',\n",
              " 'directed',\n",
              " 'that',\n",
              " 'climb',\n",
              " 'suitable',\n",
              " 'five',\n",
              " 'acres',\n",
              " 'prominent',\n",
              " 'place',\n",
              " 'distributed',\n",
              " 'and',\n",
              " 'not',\n",
              " 'pertub',\n",
              " 'the',\n",
              " 'for',\n",
              " 'the',\n",
              " 'construction',\n",
              " 'mosque']"
            ]
          },
          "metadata": {},
          "execution_count": 4
        }
      ]
    },
    {
      "cell_type": "code",
      "source": [
        "#Title case sentences, assuming all words are capitalized. Note that the text can contain numbers and punctuation.\n",
        "#e.g., “Why Sleep Is So Important To Your Health?”\n",
        "q2 = re.findall(r'\\b[A-Z]\\w+', s2)\n",
        "q2\n"
      ],
      "metadata": {
        "colab": {
          "base_uri": "https://localhost:8080/"
        },
        "id": "k1sEGUb7-O1S",
        "outputId": "704a17b0-5ad5-485c-d7cd-38fe70c7505a"
      },
      "execution_count": null,
      "outputs": [
        {
          "output_type": "execute_result",
          "data": {
            "text/plain": [
              "['The',\n",
              " 'Supreme',\n",
              " 'Court',\n",
              " 'Babri',\n",
              " 'Masjid',\n",
              " 'Sunni',\n",
              " 'Waqf',\n",
              " 'Board',\n",
              " 'Uttar',\n",
              " 'Pradesh']"
            ]
          },
          "metadata": {},
          "execution_count": 5
        }
      ]
    },
    {
      "cell_type": "code",
      "source": [
        "#(c) Strings that contain the word “ice” without matching the words that contain “ice” such as “icecream” or “ice-bucket”\n",
        "s4 = 'I like ice cream, but not icecream or ice-bucket. The word ice is nice.'\n",
        "q3 = re.findall(r'\\bice\\b(?!\\-)', s4)\n",
        "q3"
      ],
      "metadata": {
        "colab": {
          "base_uri": "https://localhost:8080/"
        },
        "id": "3GD56qF2-Rlq",
        "outputId": "e1d29bdf-8ec8-4e6f-c695-c7be939cedb6"
      },
      "execution_count": null,
      "outputs": [
        {
          "output_type": "execute_result",
          "data": {
            "text/plain": [
              "['ice', 'ice']"
            ]
          },
          "metadata": {},
          "execution_count": 8
        }
      ]
    },
    {
      "cell_type": "code",
      "source": [
        "\n",
        "#(d) The set of all lowercase alphabetic strings ending in a “b”\n",
        "q4 = re.findall(r'\\b[a-z]*b\\b', s2)\n",
        "q4\n"
      ],
      "metadata": {
        "colab": {
          "base_uri": "https://localhost:8080/"
        },
        "id": "_J5e3yGF-acL",
        "outputId": "e14f91ce-adcc-496e-b2bd-857208d11ff8"
      },
      "execution_count": null,
      "outputs": [
        {
          "output_type": "execute_result",
          "data": {
            "text/plain": [
              "['b', 'climb', 'pertub']"
            ]
          },
          "metadata": {},
          "execution_count": 9
        }
      ]
    },
    {
      "cell_type": "code",
      "source": [
        "#(e) All strings that start at the beginning of the line with an integer and that end at the end of the line with a word\n",
        "\n",
        "s4 = '42 is the answer'\n",
        "q5 = re.findall(r'^\\d+\\s.*\\b$', s4, flags=re.MULTILINE)\n",
        "print(q5)\n"
      ],
      "metadata": {
        "colab": {
          "base_uri": "https://localhost:8080/"
        },
        "id": "jJ3SV8OB-eUk",
        "outputId": "2e641aa0-8df5-4371-cf9d-4f2c11c7920e"
      },
      "execution_count": null,
      "outputs": [
        {
          "output_type": "stream",
          "name": "stdout",
          "text": [
            "['42 is the answer']\n"
          ]
        }
      ]
    }
  ]
}